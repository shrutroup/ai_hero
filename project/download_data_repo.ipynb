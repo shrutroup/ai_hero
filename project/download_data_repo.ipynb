{
 "cells": [
  {
   "cell_type": "code",
   "execution_count": 1,
   "id": "8d2b991f-81c0-4170-be5e-ae81aee31855",
   "metadata": {},
   "outputs": [
    {
     "name": "stderr",
     "output_type": "stream",
     "text": [
      "/Users/shrutroup/git_repos/aihero/project/.venv/lib/python3.9/site-packages/urllib3/__init__.py:35: NotOpenSSLWarning: urllib3 v2 only supports OpenSSL 1.1.1+, currently the 'ssl' module is compiled with 'LibreSSL 2.8.3'. See: https://github.com/urllib3/urllib3/issues/3020\n",
      "  warnings.warn(\n"
     ]
    }
   ],
   "source": [
    "import io\n",
    "import zipfile\n",
    "import requests\n",
    "import frontmatter\n",
    "\n",
    "def read_repo_data(repo_owner, repo_name):\n",
    "    \"\"\"\n",
    "    Download and parse all markdown files from a GitHub repository.\n",
    "    \n",
    "    Args:\n",
    "        repo_owner: GitHub username or organization\n",
    "        repo_name: Repository name\n",
    "    \n",
    "    Returns:\n",
    "        List of dictionaries containing file content and metadata\n",
    "    \"\"\"\n",
    "    prefix = 'https://codeload.github.com' \n",
    "    url = f'{prefix}/{repo_owner}/{repo_name}/zip/refs/heads/main'\n",
    "    resp = requests.get(url)\n",
    "    \n",
    "    if resp.status_code != 200:\n",
    "        raise Exception(f\"Failed to download repository: {resp.status_code}\")\n",
    "\n",
    "    repository_data = []\n",
    "    zf = zipfile.ZipFile(io.BytesIO(resp.content))\n",
    "    \n",
    "    for file_info in zf.infolist():\n",
    "        filename = file_info.filename\n",
    "        filename_lower = filename.lower()\n",
    "\n",
    "        if not (filename_lower.endswith('.md') \n",
    "            or filename_lower.endswith('.mdx')):\n",
    "            continue\n",
    "    \n",
    "        try:\n",
    "            with zf.open(file_info) as f_in:\n",
    "                content = f_in.read().decode('utf-8', errors='ignore')\n",
    "                post = frontmatter.loads(content)\n",
    "                data = post.to_dict()\n",
    "                data['filename'] = filename\n",
    "                repository_data.append(data)\n",
    "        except Exception as e:\n",
    "            print(f\"Error processing {filename}: {e}\")\n",
    "            continue\n",
    "    \n",
    "    zf.close()\n",
    "    return repository_data\n"
   ]
  },
  {
   "cell_type": "code",
   "execution_count": 2,
   "id": "71c09604-3843-4bd8-a29e-e824a2118562",
   "metadata": {},
   "outputs": [
    {
     "name": "stdout",
     "output_type": "stream",
     "text": [
      "Vectara docs: 25\n"
     ]
    },
    {
     "data": {
      "text/plain": [
       "{'content': '# 🤝 Contributing to Awesome AI Agent Failures\\n\\nThank you for your interest in contributing to this project! This repository thrives on community contributions that help us build a comprehensive understanding of AI agent failure modes and their solutions.\\n\\n## 🎯 How You Can Contribute\\n\\n### 📝 1. Share Failure Cases\\nDocument real-world failures you\\'ve encountered:\\n- Follow our failure case submission guidelines\\n- Include reproduction steps when possible\\n- Anonymize sensitive information\\n\\n### 🔧 2. Propose Mitigation Strategies\\nShare solutions and prevention techniques:\\n- Describe implementation details\\n- Link to GitHub repositories with working examples\\n- Reference related academic work where possible\\n\\n### 📊 3. Contribute Research\\nAdd academic insights and empirical studies:\\n- Link to relevant papers and studies\\n- Summarize key findings\\n- Discuss practical implications\\n- Suggest future research directions\\n\\n### 🛠️ 4. Build Tools\\nDevelop diagnostic and monitoring utilities:\\n- Failure detection tools\\n- Mitigation frameworks\\n- Evaluation benchmarks\\n- Visualization utilities\\n\\n## 📋 Submission Guidelines\\n\\n### For Failure Cases\\n**Add your example directly to the appropriate failure mode file in `docs/failure-modes/`:**\\n\\n1. **Choose the Right File**: \\n   - `tool-hallucination.md` - for tool output errors\\n   - `response-hallucination.md` - for agent response errors  \\n   - `goal-misinterpretation.md` - for wrong objective cases\\n   - `plan-generation.md` - for flawed planning\\n   - `tool-use.md` - for incorrect tool selection/usage\\n   - `verification-termination.md` - for completion failures\\n   - `prompt-injection.md` - for security bypass cases\\n\\n2. **Include Required Information**:\\n   - **Scenario**: Context and setup - what was the agent supposed to do?\\n   - **Failure**: What went wrong and what the agent did\\n   - **Impact**: Consequences - financial loss, incorrect outputs, etc.\\n   - **Source**: Link to publicly verifiable documentation (required)\\n\\n3. **Follow Existing Format**: Use the pattern `### Company/Product Description (Date)` and match the structure of existing examples\\n\\n### For Mitigation Strategies\\n**Add to existing failure mode documentation or create new tool documentation:**\\n\\n1. **For Detection/Mitigation Techniques**: Add to the \"Detection and Mitigation Strategies\" section of the relevant failure mode file\\n2. **For Tools**: Create new documentation in `docs/tools/` following the standard structure (Overview, Key Features, Pricing, Additional Resources)\\n3. **Include Required Information**:\\n   - Clear description of your approach and why it works\\n   - Link to working GitHub repository with implementation\\n   - When the technique is most effective\\n   - Performance/effectiveness data if available\\n\\n### For Research & Tools\\n- **Research**: Add to README Resources section with brief description highlighting practical insights\\n- **Tools**: Link to external GitHub repositories with comprehensive documentation\\n- **Ensure**: All external repositories have proper README, usage instructions, and dependencies listed\\n\\n## 🚀 Getting Started\\n\\n### 1. Fork the Repository\\n```bash\\ngit clone https://github.com/vectara/awesome-agent-failures.git\\ncd awesome-agent-failures\\n```\\n\\n### 2. Create a Feature Branch\\n```bash\\ngit checkout -b feature/your-contribution-name\\n```\\n\\n### 3. Make Your Changes\\n- Add your content following the submission guidelines above\\n- Update relevant documentation  \\n- Ensure formatting consistency\\n\\n### 4. Submit a Pull Request  \\n- Provide a clear description of your contribution\\n- Reference any related issues\\n- Request review from maintainers\\n\\n\\n## 📐 Style Guidelines\\n\\n### Documentation\\n- Use clear, concise language\\n- Follow Markdown formatting standards\\n- Include relevant emojis for section headers\\n- Maintain consistent terminology across documents\\n\\n### File Naming\\n- Use kebab-case for filenames (`my-failure-case.md`)\\n- Include descriptive names that reflect content\\n- Follow established directory structure\\n- Add appropriate file extensions\\n\\n### Technical Requirements\\n\\n**Markdown Standards:**\\n- Use standard GitHub Flavored Markdown syntax\\n- Include proper heading hierarchy (H1 for main title, H2 for sections, etc.)\\n- Use consistent formatting for code blocks, links, and emphasis\\n- Ensure proper line spacing (no unnecessary blank lines between sections)\\n\\n**Link Requirements:**\\n- All external links must be publicly accessible (no paywalls or login required)\\n- Links should be stable and unlikely to break (prefer official sources)\\n- Use descriptive link text, not \"click here\" or raw URLs\\n- Test all links before submission\\n\\n**Content Standards:**\\n- Write in clear, professional English\\n- Use consistent terminology matching existing documentation\\n- Include specific dates, company names, and quantifiable impacts where possible\\n- Anonymize sensitive information while maintaining educational value\\n\\n**Required vs. Optional Fields:**\\n- **Required Information**: All submission guidelines above must be followed\\n- **Optional**: Additional context, metrics, or analysis that enhances understanding\\n- **Conditional**: Some fields may be required based on contribution type (e.g., GitHub links for tools)\\n\\n## 🏷️ Labels and Categories\\n\\n### Issue Labels\\n- `failure-case`: New failure mode documentation\\n- `mitigation`: Solution or prevention strategy\\n- `research`: Academic contribution or study\\n- `tool`: Diagnostic or monitoring utility\\n- `documentation`: Improvements to existing docs\\n- `bug`: Error in existing content\\n- `enhancement`: Feature request or improvement\\n\\n### Content Categories\\nOrganize contributions into appropriate categories:\\n- **Failure Modes**: Primary taxonomy categories\\n- **Case Studies**: Real-world failure examples\\n- **Solutions**: Mitigation and prevention strategies\\n- **Tools**: Utilities for detection and analysis\\n- **Research**: Academic papers and empirical studies\\n\\n## ✅ Quality Standards\\n- **Failure Cases**: Must have publicly verifiable source and document real-world impact\\n- **Mitigation Strategies**: Must link to working implementation with clear documentation  \\n- **Tools/Research**: Must be publicly accessible and directly relevant to AI agent failure modes\\n\\n## 👥 Community Guidelines\\n\\nWe are committed to fostering an open and welcoming environment. All contributors are expected to maintain professional and respectful behavior in all interactions.\\n\\n### Respectful Interaction\\n- Use inclusive and professional language\\n- Respect diverse perspectives and experiences\\n- Provide constructive feedback and criticism\\n- Credit others\\' contributions appropriately\\n\\n### Collaborative Approach\\n- Build on existing work when possible\\n- Share knowledge and insights freely\\n- Help newcomers understand contribution process\\n- Foster learning-oriented discussions\\n\\n### Ethical Considerations\\n- Prioritize beneficial applications over harmful ones\\n- Respect privacy and confidentiality\\n- Consider broader societal implications\\n- Promote responsible AI development\\n\\n## 📞 Support and Communication\\n\\n### Getting Help\\n- **GitHub Issues**: [Create an issue](https://github.com/vectara/awesome-agent-failures/issues) for bugs, questions, or suggestions\\n- **GitHub Discussions**: [Join discussions](https://github.com/vectara/awesome-agent-failures/discussions) for community Q&A\\n- **Pull Requests**: Submit contributions via [pull requests](https://github.com/vectara/awesome-agent-failures/pulls)\\n\\n### Maintainer Contact\\n- **Repository**: [vectara/awesome-agent-failures](https://github.com/vectara/awesome-agent-failures)\\n- **Issues**: For technical questions, create a GitHub issue\\n- **Discussions**: For general questions, use GitHub Discussions\\n\\n## 📄 Legal and Licensing\\n\\n### License Agreement\\nBy contributing to this project, you agree to license your contributions under the Apache 2.0 License. This ensures:\\n- Open access for all users\\n- Freedom to use, modify, and distribute\\n- Compatibility with commercial applications\\n- Community ownership of collective knowledge\\n\\n### Copyright and Attribution\\n- Contributors retain copyright to their original work\\n- Project maintains right to use and distribute contributions\\n- Proper attribution provided in all derivative works\\n- Credit given to original authors and sources\\n\\n### Sensitive Information\\n- Never include proprietary or confidential information\\n- Anonymize case studies to protect privacy\\n- Remove personal identifiers and sensitive data\\n- Consider legal implications of shared information\\n\\n---\\n\\n## 🙏 Thank You\\n\\nYour contributions make this project valuable for the entire AI community. Whether you\\'re sharing a failure case, proposing a solution, or improving documentation, you\\'re helping build a safer and more reliable future for AI agents.\\n\\n**Ready to contribute?** Check out our [good first issues](https://github.com/vectara/awesome-agent-failures/labels/good%20first%20issue) to get started!\\n\\n---\\n\\n*For questions about contributing, please [create an issue](https://github.com/vectara/awesome-agent-failures/issues) or start a [discussion](https://github.com/vectara/awesome-agent-failures/discussions).*',\n",
       " 'filename': 'awesome-agent-failures-main/CONTRIBUTING.md'}"
      ]
     },
     "execution_count": 2,
     "metadata": {},
     "output_type": "execute_result"
    }
   ],
   "source": [
    "vectara = read_repo_data('vectara', 'awesome-agent-failures')\n",
    "print(f\"Vectara docs: {len(vectara)}\")\n",
    "vectara[0]"
   ]
  },
  {
   "cell_type": "code",
   "execution_count": null,
   "id": "945b8cdf-7dda-4207-9d60-250a66829eb0",
   "metadata": {},
   "outputs": [],
   "source": []
  }
 ],
 "metadata": {
  "kernelspec": {
   "display_name": "Python 3 (ipykernel)",
   "language": "python",
   "name": "python3"
  },
  "language_info": {
   "codemirror_mode": {
    "name": "ipython",
    "version": 3
   },
   "file_extension": ".py",
   "mimetype": "text/x-python",
   "name": "python",
   "nbconvert_exporter": "python",
   "pygments_lexer": "ipython3",
   "version": "3.9.6"
  }
 },
 "nbformat": 4,
 "nbformat_minor": 5
}
